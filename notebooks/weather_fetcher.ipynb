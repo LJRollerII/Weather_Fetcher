{
 "cells": [
  {
   "cell_type": "code",
   "execution_count": null,
   "id": "7dea9b8c",
   "metadata": {},
   "outputs": [],
   "source": [
    "import requests\n",
    "import creds\n",
    "\n",
    "#Imported creds in order to hide API Key\n",
    "\n",
    "url = \"http://api.openweathermap.org/data/2.5/weather\"\n",
    "\n",
    "#Let's create the query parameters to request the weather for the city that we want,\n",
    "city = input(\"Enter city name: \")\n",
    "#Now we need create a url which includes the api key and city in order to send the request.\n",
    "# f sting allows you directly embed variables inside of a string.\n",
    "#Anything after the ? is part of the query paramater.\n",
    "request_url =  f\"{url}?appid={creds.api_key}&q={city}\"\n",
    "response = requests.get(request_url)\n",
    "\n",
    "#Let's check the status code of the response\n",
    "# 200 means request was succesful\n",
    "\n",
    "if response.status_code == 200:\n",
    "    data = response.json()\n",
    "    #Now we'll select what data from the response we want to print in our report.\n",
    "    city_name = data['name']\n",
    "    country = data['sys']['country']\n",
    "    weather = data['weather'][0]['description']\n",
    "    # You will need to -273.15 × 9/5 + 32  for Fahrenheit and -273.15 for Celsius since the temperature is originally in Kelvin.\n",
    "    temperature = round(data['main']['temp'] - 273.15 * 9/5 + 32, 2)\n",
    "    feels_like = round(data['main']['feels_like']- 273.15 * 9/5 + 32, 2)\n",
    "    lowest_temp = round(data['main']['temp_min']- 273.15 * 9/5 + 32, 2)\n",
    "    highest_temp = round(data['main']['temp_max']- 273.15 * 9/5 + 32, 2)\n",
    "    humidity = data['main']['humidity']\n",
    "    wind = round(data['wind']['speed'] / 1.609, 1)\n",
    "    \n",
    "    \n",
    "    print(city_name, country)\n",
    "    print(\"Weather:\", weather)\n",
    "    print(\"Temperature:\", temperature, \" °F\" )\n",
    "    print(\"Feels like:\", feels_like, \" °F\" )\n",
    "    print('Lowest temperature:', lowest_temp, \" °F\", \"|\", \"Highest temperature:\", highest_temp, \" °F\" )\n",
    "    print(\"Humidity:\",humidity, \"%\" )\n",
    "    print(\"Wind:\", wind, \"mph\")\n",
    "else:\n",
    "    print(\"An error occurred.\")"
   ]
  },
  {
   "cell_type": "code",
   "execution_count": null,
   "id": "002a589b",
   "metadata": {},
   "outputs": [],
   "source": []
  }
 ],
 "metadata": {
  "kernelspec": {
   "display_name": "Python 3 (ipykernel)",
   "language": "python",
   "name": "python3"
  },
  "language_info": {
   "codemirror_mode": {
    "name": "ipython",
    "version": 3
   },
   "file_extension": ".py",
   "mimetype": "text/x-python",
   "name": "python",
   "nbconvert_exporter": "python",
   "pygments_lexer": "ipython3",
   "version": "3.9.7"
  }
 },
 "nbformat": 4,
 "nbformat_minor": 5
}
